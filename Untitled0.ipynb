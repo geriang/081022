{
  "nbformat": 4,
  "nbformat_minor": 0,
  "metadata": {
    "colab": {
      "provenance": [],
      "authorship_tag": "ABX9TyPHTtwjbc6b5jVhtHN+JZtY",
      "include_colab_link": true
    },
    "kernelspec": {
      "name": "python3",
      "display_name": "Python 3"
    },
    "language_info": {
      "name": "python"
    }
  },
  "cells": [
    {
      "cell_type": "markdown",
      "metadata": {
        "id": "view-in-github",
        "colab_type": "text"
      },
      "source": [
        "<a href=\"https://colab.research.google.com/github/geriang/081022/blob/main/Untitled0.ipynb\" target=\"_parent\"><img src=\"https://colab.research.google.com/assets/colab-badge.svg\" alt=\"Open In Colab\"/></a>"
      ]
    },
    {
      "cell_type": "code",
      "execution_count": 1,
      "metadata": {
        "colab": {
          "base_uri": "https://localhost:8080/"
        },
        "id": "EiDsqFYBazYX",
        "outputId": "0b5debe5-c258-47db-bc16-8239a789e3b5"
      },
      "outputs": [
        {
          "output_type": "stream",
          "name": "stdout",
          "text": [
            "hello world\n"
          ]
        }
      ],
      "source": [
        "print(\"hello world\")\n"
      ]
    },
    {
      "cell_type": "code",
      "source": [
        "# you do not need quotation marks when declaring variables in Python. \n",
        "balloon = 10\n",
        "print(balloon)\n",
        "\n",
        "x = 15\n",
        "print (x)"
      ],
      "metadata": {
        "colab": {
          "base_uri": "https://localhost:8080/"
        },
        "id": "j77feBJlea9m",
        "outputId": "555f194e-f874-4578-d791-4511855bc482"
      },
      "execution_count": 3,
      "outputs": [
        {
          "output_type": "stream",
          "name": "stdout",
          "text": [
            "10\n",
            "15\n"
          ]
        }
      ]
    },
    {
      "cell_type": "code",
      "source": [
        "#this is a snake case\n",
        "this_is_another_variable=100\n",
        "print(this_is_another_variable)"
      ],
      "metadata": {
        "colab": {
          "base_uri": "https://localhost:8080/"
        },
        "id": "uUWVCfhVfbg4",
        "outputId": "7b6d8c42-2f33-439d-dfc7-e0c6665e1070"
      },
      "execution_count": 4,
      "outputs": [
        {
          "output_type": "stream",
          "name": "stdout",
          "text": [
            "100\n"
          ]
        }
      ]
    },
    {
      "cell_type": "code",
      "source": [
        "a = 12\n",
        "b = 3.142\n",
        "c = \"the quick brown fox\"\n",
        "d = \"it's a sunny day ain't it\"\n",
        "# escape characters \n",
        "e = \"the \\\"laser\\\" beam\"\n",
        "# string literal\n",
        "f = '''\n",
        "this is a string literal hahahha\n",
        "see how it goes \n",
        "one two \n",
        "three\n",
        "'''\n",
        "g = False\n",
        "h = True\n",
        "print(f)"
      ],
      "metadata": {
        "colab": {
          "base_uri": "https://localhost:8080/"
        },
        "id": "gKs93oyQfzGV",
        "outputId": "d3e50ad2-7540-45ec-e3e4-052b890132ac"
      },
      "execution_count": 5,
      "outputs": [
        {
          "output_type": "stream",
          "name": "stdout",
          "text": [
            "\n",
            "this is a string literal hahahha\n",
            "see how it goes \n",
            "one two \n",
            "three\n",
            "\n"
          ]
        }
      ]
    },
    {
      "cell_type": "code",
      "source": [
        "x = 1/3\n",
        "print (x)\n",
        "\n",
        "y = 1//3\n",
        "print (y)\n",
        "\n",
        "a = 2%2\n",
        "print (a)\n",
        "\n",
        "b = 3%2\n",
        "print (b)"
      ],
      "metadata": {
        "colab": {
          "base_uri": "https://localhost:8080/"
        },
        "id": "M6SUOX9phijQ",
        "outputId": "b80268fc-4495-48bc-b9e0-79d581e48e13"
      },
      "execution_count": 6,
      "outputs": [
        {
          "output_type": "stream",
          "name": "stdout",
          "text": [
            "0.3333333333333333\n",
            "0\n",
            "0\n",
            "1\n"
          ]
        }
      ]
    },
    {
      "cell_type": "code",
      "source": [
        "user_input_number= input(\"please enter a whole number\")\n",
        "user_input_number= int(user_input_number) \n",
        "multiply = user_input_number * 2\n",
        "print (multiply)\n"
      ],
      "metadata": {
        "colab": {
          "base_uri": "https://localhost:8080/"
        },
        "id": "FgtaIYk_i05R",
        "outputId": "1b18adcb-ba9d-4a3f-9389-6010205e5afd"
      },
      "execution_count": 9,
      "outputs": [
        {
          "output_type": "stream",
          "name": "stdout",
          "text": [
            "please enter a whole number4\n",
            "8\n"
          ]
        }
      ]
    },
    {
      "cell_type": "code",
      "source": [
        "x = input(\"Please enter your weight(kg):\")\n",
        "y = input(\"Please enter your height(cm):\")\n",
        "weight = float(x)\n",
        "height = float(y)\n",
        "z = weight*weight/height\n",
        "BMI = round(z,2)\n",
        "print(f\"your BMI score is: {BMI}\")\n",
        "\n",
        "\n"
      ],
      "metadata": {
        "colab": {
          "base_uri": "https://localhost:8080/"
        },
        "id": "8YDz_LaRj6V9",
        "outputId": "6481e0e9-32cd-43f9-9a78-af5167eaec5d"
      },
      "execution_count": 30,
      "outputs": [
        {
          "output_type": "stream",
          "name": "stdout",
          "text": [
            "Please enter your weight(kg):60\n",
            "Please enter your height(cm):178\n",
            "your BMI score is: 20.22\n"
          ]
        }
      ]
    },
    {
      "cell_type": "code",
      "source": [
        "def f(x): \n",
        "  return x+10\n",
        "\n",
        "# Google Colab will always print the last line of your code\n",
        "print(f(10))\n"
      ],
      "metadata": {
        "colab": {
          "base_uri": "https://localhost:8080/"
        },
        "id": "6cDKYaWjuXZk",
        "outputId": "7e3168b1-8201-4b1e-d869-60af446bc59f"
      },
      "execution_count": 50,
      "outputs": [
        {
          "output_type": "stream",
          "name": "stdout",
          "text": [
            "20\n"
          ]
        }
      ]
    },
    {
      "cell_type": "code",
      "source": [
        "def multi(x):\n",
        "  return x*2\n",
        "\n",
        "print(multi(2))"
      ],
      "metadata": {
        "colab": {
          "base_uri": "https://localhost:8080/"
        },
        "id": "5nSetr5pvQg6",
        "outputId": "847590b9-4812-4428-96c0-5120531a6099"
      },
      "execution_count": 54,
      "outputs": [
        {
          "output_type": "stream",
          "name": "stdout",
          "text": [
            "4\n"
          ]
        }
      ]
    },
    {
      "cell_type": "code",
      "source": [
        "def f(multi):\n",
        "  return multi*2\n",
        "\n",
        "print(f(2))\n"
      ],
      "metadata": {
        "colab": {
          "base_uri": "https://localhost:8080/"
        },
        "id": "ljk79DYSwGAI",
        "outputId": "4e9e7463-db1d-4346-dbfa-76ddbdade2f5"
      },
      "execution_count": 55,
      "outputs": [
        {
          "output_type": "stream",
          "name": "stdout",
          "text": [
            "4\n"
          ]
        }
      ]
    },
    {
      "cell_type": "code",
      "source": [
        "def xyz(a,b,c):\n",
        "  return a*2,b*3,c*4\n",
        "\n",
        "test = xyz(1,2,3)\n",
        "\n",
        "print(test[2])"
      ],
      "metadata": {
        "colab": {
          "base_uri": "https://localhost:8080/"
        },
        "id": "G65UzCvc05nf",
        "outputId": "4d9d7fbd-bef6-4106-bedc-a2c85acc51bb"
      },
      "execution_count": 71,
      "outputs": [
        {
          "output_type": "stream",
          "name": "stdout",
          "text": [
            "12\n"
          ]
        }
      ]
    },
    {
      "cell_type": "code",
      "source": [
        "def multiply(a,b):\n",
        "  return a*b\n",
        "\n",
        "print(multiply(3,2))\n",
        "  "
      ],
      "metadata": {
        "colab": {
          "base_uri": "https://localhost:8080/"
        },
        "id": "RO2-VE4j1pBs",
        "outputId": "5a85457e-222e-4dd0-f3fb-138d139c0028"
      },
      "execution_count": 68,
      "outputs": [
        {
          "output_type": "stream",
          "name": "stdout",
          "text": [
            "6\n"
          ]
        }
      ]
    },
    {
      "cell_type": "code",
      "source": [
        "weight = float(input(\"what is your weight in kg?\"))\n",
        "height = float(input(\"what is your height in cm?\"))\n",
        "\n",
        "\n",
        "def bmi(weight,height):\n",
        "  return round((weight**2/height),2)\n",
        "\n",
        "print(f\"your bmi is {bmi(weight,height)}\")"
      ],
      "metadata": {
        "colab": {
          "base_uri": "https://localhost:8080/"
        },
        "id": "53cJYDPtO3r2",
        "outputId": "69b04c99-8ac9-40c0-849c-f60a6f403226"
      },
      "execution_count": 59,
      "outputs": [
        {
          "output_type": "stream",
          "name": "stdout",
          "text": [
            "what is your weight in kg?60\n",
            "what is your height in cm?177\n",
            "your bmi is 20.34\n"
          ]
        }
      ]
    },
    {
      "cell_type": "code",
      "source": [
        "x = int(input(\"Enter an integer:\"))\n",
        "y = x%2\n",
        "if  y == 0:\n",
        " print(f\"{x} is an even number.\")\n",
        "else:\n",
        "  print(f\"{x} is an odd number.\")"
      ],
      "metadata": {
        "colab": {
          "base_uri": "https://localhost:8080/"
        },
        "id": "6QXTvRHtbtJn",
        "outputId": "584b562d-ce51-41e0-b2c7-7ba489b75339"
      },
      "execution_count": 64,
      "outputs": [
        {
          "output_type": "stream",
          "name": "stdout",
          "text": [
            "Enter an integer:10\n",
            "10 is an even number.\n"
          ]
        }
      ]
    },
    {
      "cell_type": "code",
      "source": [
        "x = int(input(\"please enter today's PSI reading\"))\n",
        "\n",
        "if x <=50:\n",
        "  print(\"The air quality is healthy\")\n",
        "\n",
        "\n",
        "elif x >=51 and x <=99:\n",
        "  print(\"The air quality is moderate\")\n",
        "\n",
        "else:\n",
        "  print(\"The air is unhealty\")\n",
        " \n",
        "\n"
      ],
      "metadata": {
        "colab": {
          "base_uri": "https://localhost:8080/"
        },
        "id": "jjOwiCpWfyfx",
        "outputId": "8c1ff598-97c1-4a08-a37f-b2e8c78d7e62"
      },
      "execution_count": 94,
      "outputs": [
        {
          "output_type": "stream",
          "name": "stdout",
          "text": [
            "please enter today's PSI reading0\n",
            "The air quality is healthy\n"
          ]
        }
      ]
    },
    {
      "cell_type": "code",
      "source": [
        "x = 10\n",
        "while x <=15:\n",
        "  print (x)\n",
        "  x=x+1\n"
      ],
      "metadata": {
        "colab": {
          "base_uri": "https://localhost:8080/"
        },
        "id": "7GPgL5oKognD",
        "outputId": "889284b4-d912-4fbe-c324-129a35023b43"
      },
      "execution_count": 95,
      "outputs": [
        {
          "output_type": "stream",
          "name": "stdout",
          "text": [
            "10\n",
            "11\n",
            "12\n",
            "13\n",
            "14\n",
            "15\n"
          ]
        }
      ]
    },
    {
      "cell_type": "code",
      "source": [
        "for x in range(10,16,1):\n",
        " print(x)"
      ],
      "metadata": {
        "colab": {
          "base_uri": "https://localhost:8080/"
        },
        "id": "nKRzfTnZo1ru",
        "outputId": "8417c17b-7089-4f4c-cb5d-94141b26d996"
      },
      "execution_count": 104,
      "outputs": [
        {
          "output_type": "stream",
          "name": "stdout",
          "text": [
            "10\n",
            "11\n",
            "12\n",
            "13\n",
            "14\n",
            "15\n"
          ]
        }
      ]
    },
    {
      "cell_type": "code",
      "source": [
        "x = int(input(\"key in a three digit number.\"))\n",
        "while x <100 or x >999:\n",
        " x = int(input(\"key in a 3 digit number\"))\n",
        "print(\"you have keyed in a 3 digit number\")"
      ],
      "metadata": {
        "id": "q1lnq8fJq0WE"
      },
      "execution_count": null,
      "outputs": []
    },
    {
      "cell_type": "code",
      "source": [
        "x = int(input(\"key in\"))\n",
        "while x <1000 and x > 99:\n",
        "  x = int(input)"
      ],
      "metadata": {
        "id": "K_Wzdqf2st8j"
      },
      "execution_count": null,
      "outputs": []
    }
  ]
}